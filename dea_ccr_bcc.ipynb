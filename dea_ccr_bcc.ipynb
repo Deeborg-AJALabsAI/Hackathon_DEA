{
 "cells": [
  {
   "cell_type": "code",
   "execution_count": 1,
   "metadata": {},
   "outputs": [],
   "source": [
    "import pandas as pd\n",
    "from pulp import LpProblem, LpMinimize, LpVariable, lpSum, value\n",
    "import csv\n"
   ]
  },
  {
   "cell_type": "code",
   "execution_count": 2,
   "metadata": {},
   "outputs": [],
   "source": [
    "\n",
    "\n",
    "dmus = [\"BANGALORE DAIRY BRANCH\",\"BANGALORE MICO ADUGODI\",\"Banglaore, Madiwala\",\"BTM LAYOUT BRANCH, BTM 2nd Stage\",\"VIVEKNAGAR\",\"Gandhi Bazar\",\"HANUMANTHNAGAR\",\"ISRO LAYOUT\",\"No.38, 5th Cross, Malleshwaram\",\"Yelahanka\"]\n",
    "Ips = ['No of Employees','Sum(Operations Cost)','Sum(Salaries, Wages, and Fixed Costs)']\n",
    "Ops = ['Sum(AdjSales)','Count of clients']\n",
    "\n"
   ]
  },
  {
   "cell_type": "code",
   "execution_count": 3,
   "metadata": {},
   "outputs": [],
   "source": [
    "X = {\n",
    "    i:{\n",
    "        k: 0 for k in dmus\n",
    "    } for i in Ips\n",
    "}\n",
    "\n",
    "Y = {\n",
    "    j: {\n",
    "        k: 0 for k in dmus\n",
    "    } for j in Ops\n",
    "}"
   ]
  },
  {
   "cell_type": "code",
   "execution_count": 4,
   "metadata": {},
   "outputs": [],
   "source": [
    "with open('BankBranchesSyntheticData.csv',newline='') as csvfile:\n",
    "    df_dict = csv.DictReader(csvfile)\n",
    "    k=0\n",
    "    for row in df_dict:\n",
    "        for i in Ips:\n",
    "            X[i][dmus[k]] = float(row[i])\n",
    "        for j in Ops:\n",
    "            Y[j][dmus[k]] = float(row[j])\n",
    "        k+=1"
   ]
  },
  {
   "cell_type": "markdown",
   "metadata": {},
   "source": [
    "# CCR - CRS Model - Constant Return to Scale"
   ]
  },
  {
   "cell_type": "code",
   "execution_count": 5,
   "metadata": {},
   "outputs": [],
   "source": [
    "def branchEffCCR(dmu):    #CCR\n",
    "    print(\"Branch--------------------------\",dmu)\n",
    "    model = LpProblem('CRS_model',LpMinimize)\n",
    "    theta_r = LpVariable(f'theta_r')\n",
    "    lambda_k = LpVariable.dicts(f'lambda_k',lowBound=0, indices=dmus)\n",
    "    model += theta_r\n",
    "    #Constraints\n",
    "    for i in Ips:\n",
    "        model += lpSum([\n",
    "            lambda_k[k] * X[i][k]\n",
    "            for k in dmus]) <= theta_r *float(X[i][dmu])\n",
    "\n",
    "    for j in Ops:\n",
    "        model += lpSum([\n",
    "            lambda_k[k] * Y[j][k]\n",
    "            for k in dmus]) >= float(Y[j][dmu])\n",
    "        \n",
    "    model.solve()\n",
    "    return f'{dmu}：{round(value(model.objective), 3)}\\n', value(model.objective)\n",
    "\n",
    "    \n"
   ]
  },
  {
   "cell_type": "code",
   "execution_count": 6,
   "metadata": {},
   "outputs": [
    {
     "name": "stdout",
     "output_type": "stream",
     "text": [
      "Branch-------------------------- BANGALORE DAIRY BRANCH\n",
      "('BANGALORE DAIRY BRANCH：0.999\\n', 0.99852902)\n",
      "Branch-------------------------- BANGALORE MICO ADUGODI\n",
      "('BANGALORE MICO ADUGODI：0.997\\n', 0.9974387)\n",
      "Branch-------------------------- Banglaore, Madiwala\n",
      "('Banglaore, Madiwala：1.0\\n', 1.0)\n",
      "Branch-------------------------- BTM LAYOUT BRANCH, BTM 2nd Stage\n",
      "('BTM LAYOUT BRANCH, BTM 2nd Stage：0.995\\n', 0.99476872)\n",
      "Branch-------------------------- VIVEKNAGAR\n",
      "('VIVEKNAGAR：1.0\\n', 1.0)\n",
      "Branch-------------------------- Gandhi Bazar\n",
      "('Gandhi Bazar：0.117\\n', 0.11699054)\n",
      "Branch-------------------------- HANUMANTHNAGAR\n",
      "('HANUMANTHNAGAR：0.986\\n', 0.98642751)\n",
      "Branch-------------------------- ISRO LAYOUT\n",
      "('ISRO LAYOUT：1.0\\n', 1.0)\n",
      "Branch-------------------------- No.38, 5th Cross, Malleshwaram\n",
      "('No.38, 5th Cross, Malleshwaram：0.999\\n', 0.99915073)\n",
      "Branch-------------------------- Yelahanka\n",
      "('Yelahanka：0.997\\n', 0.99698921)\n"
     ]
    }
   ],
   "source": [
    "for dmu in dmus:\n",
    "    a = branchEffCCR(dmu)\n",
    "    print(a)\n",
    "\n"
   ]
  },
  {
   "cell_type": "markdown",
   "metadata": {},
   "source": [
    "# BCC - VRS Model - Variable Return to Scale "
   ]
  },
  {
   "cell_type": "code",
   "execution_count": 7,
   "metadata": {},
   "outputs": [],
   "source": [
    "def branchEffVRS(dmu):\n",
    "    model = LpProblem('VRS_model',LpMinimize)\n",
    "    theta_r = LpVariable(f'theta_r')\n",
    "    lambda_k = LpVariable.dicts(f'lambda_k', lowBound=0, indices= dmus)\n",
    "    model += theta_r\n",
    "\n",
    "    for i in Ips:\n",
    "        model += lpSum([\n",
    "            lambda_k[k] * X[i][k]\n",
    "            for k in dmus]) <= theta_r * float(X[i][dmu])\n",
    "    for j in Ops:\n",
    "        model += lpSum([\n",
    "            lambda_k[k] * Y[j][k]\n",
    "            for k in dmus]) >= float(Y[j][dmu])\n",
    "        \n",
    "    model += lpSum([lambda_k[k] for k in dmus]) ==1\n",
    "    model.solve()\n",
    "    return f'{dmu}:{round(value(model.objective), 3)}\\n', value(model.objective)\n"
   ]
  },
  {
   "cell_type": "code",
   "execution_count": 8,
   "metadata": {},
   "outputs": [
    {
     "name": "stdout",
     "output_type": "stream",
     "text": [
      "Branch-------------------------- BANGALORE DAIRY BRANCH\n",
      "('BANGALORE DAIRY BRANCH:0.999\\n', 0.99870308)\n",
      "Branch-------------------------- BANGALORE MICO ADUGODI\n",
      "('BANGALORE MICO ADUGODI:0.998\\n', 0.99752453)\n",
      "Branch-------------------------- Banglaore, Madiwala\n",
      "('Banglaore, Madiwala:1.0\\n', 1.0)\n",
      "Branch-------------------------- BTM LAYOUT BRANCH, BTM 2nd Stage\n",
      "('BTM LAYOUT BRANCH, BTM 2nd Stage:0.995\\n', 0.9948336)\n",
      "Branch-------------------------- VIVEKNAGAR\n",
      "('VIVEKNAGAR:1.0\\n', 1.0)\n",
      "Branch-------------------------- Gandhi Bazar\n",
      "('Gandhi Bazar:0.842\\n', 0.84210526)\n",
      "Branch-------------------------- HANUMANTHNAGAR\n",
      "('HANUMANTHNAGAR:1.0\\n', 1.0)\n",
      "Branch-------------------------- ISRO LAYOUT\n",
      "('ISRO LAYOUT:1.0\\n', 1.0)\n",
      "Branch-------------------------- No.38, 5th Cross, Malleshwaram\n",
      "('No.38, 5th Cross, Malleshwaram:0.999\\n', 0.99940454)\n",
      "Branch-------------------------- Yelahanka\n",
      "('Yelahanka:0.997\\n', 0.99733612)\n"
     ]
    }
   ],
   "source": [
    "for dmu in dmus:\n",
    "    print(\"Branch--------------------------\",dmu)\n",
    "    b = branchEffVRS(dmu)\n",
    "    print(b)\n",
    "\n"
   ]
  },
  {
   "cell_type": "code",
   "execution_count": null,
   "metadata": {},
   "outputs": [],
   "source": []
  },
  {
   "cell_type": "code",
   "execution_count": null,
   "metadata": {},
   "outputs": [],
   "source": []
  },
  {
   "cell_type": "code",
   "execution_count": null,
   "metadata": {},
   "outputs": [],
   "source": []
  }
 ],
 "metadata": {
  "kernelspec": {
   "display_name": "Python 3",
   "language": "python",
   "name": "python3"
  },
  "language_info": {
   "codemirror_mode": {
    "name": "ipython",
    "version": 3
   },
   "file_extension": ".py",
   "mimetype": "text/x-python",
   "name": "python",
   "nbconvert_exporter": "python",
   "pygments_lexer": "ipython3",
   "version": "3.11.5"
  }
 },
 "nbformat": 4,
 "nbformat_minor": 2
}
